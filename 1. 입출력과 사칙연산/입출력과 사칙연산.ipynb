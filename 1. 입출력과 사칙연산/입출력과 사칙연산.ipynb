{
 "cells": [
  {
   "cell_type": "markdown",
   "id": "208d8f15",
   "metadata": {},
   "source": [
    "1000번"
   ]
  },
  {
   "cell_type": "code",
   "execution_count": 5,
   "id": "26de2258",
   "metadata": {},
   "outputs": [
    {
     "name": "stdout",
     "output_type": "stream",
     "text": [
      "2 3\n",
      "5\n"
     ]
    }
   ],
   "source": [
    "a, b = map(int, input().split())\n",
    "print(a + b)"
   ]
  },
  {
   "cell_type": "markdown",
   "id": "45e56d57",
   "metadata": {},
   "source": [
    "1001번 A-B"
   ]
  },
  {
   "cell_type": "code",
   "execution_count": 3,
   "id": "7e2add27",
   "metadata": {},
   "outputs": [
    {
     "name": "stdout",
     "output_type": "stream",
     "text": [
      "1 2\n",
      "-1\n"
     ]
    }
   ],
   "source": [
    "a, b = map(int, input().split())\n",
    "print(a-b)"
   ]
  },
  {
   "cell_type": "markdown",
   "id": "cfa713ab",
   "metadata": {},
   "source": [
    "10998번 A*B"
   ]
  },
  {
   "cell_type": "code",
   "execution_count": null,
   "id": "52933546",
   "metadata": {},
   "outputs": [],
   "source": [
    "a, b = map(int, input().split())\n",
    "print(a*b)"
   ]
  },
  {
   "cell_type": "markdown",
   "id": "eb194736",
   "metadata": {},
   "source": [
    "1008번 A/B"
   ]
  },
  {
   "cell_type": "code",
   "execution_count": null,
   "id": "39fd5dc6",
   "metadata": {},
   "outputs": [],
   "source": [
    "a, b = map(int, input().split())\n",
    "print(a/b)"
   ]
  },
  {
   "cell_type": "markdown",
   "id": "dfa42bd4",
   "metadata": {},
   "source": [
    "10869번 사칙연산"
   ]
  },
  {
   "cell_type": "code",
   "execution_count": 10,
   "id": "bf0fdece",
   "metadata": {},
   "outputs": [
    {
     "name": "stdout",
     "output_type": "stream",
     "text": [
      "2 3\n",
      "5\n",
      "-1\n",
      "6\n",
      "0.6666666666666666\n",
      "2\n"
     ]
    }
   ],
   "source": [
    "a,b = map(int, input().split())\n",
    "print(a+b)\n",
    "print(a-b)\n",
    "print(a*b)\n",
    "print(a//b)\n",
    "print(a%b)"
   ]
  },
  {
   "cell_type": "markdown",
   "id": "a62f211a",
   "metadata": {},
   "source": [
    "10926번 ??!"
   ]
  },
  {
   "cell_type": "code",
   "execution_count": 14,
   "id": "f7c7929c",
   "metadata": {},
   "outputs": [
    {
     "name": "stdout",
     "output_type": "stream",
     "text": [
      "dfdf\n",
      "dfdf??!\n"
     ]
    }
   ],
   "source": [
    "id = input()\n",
    "print(id + \"??!\")"
   ]
  },
  {
   "cell_type": "markdown",
   "id": "4a7d8e59",
   "metadata": {},
   "source": [
    "18108번 1998년생인 내가 태국에서는 2541년생?!"
   ]
  },
  {
   "cell_type": "code",
   "execution_count": 23,
   "id": "13c6bd72",
   "metadata": {},
   "outputs": [
    {
     "name": "stdout",
     "output_type": "stream",
     "text": [
      "1000\n"
     ]
    },
    {
     "data": {
      "text/plain": [
       "457"
      ]
     },
     "execution_count": 23,
     "metadata": {},
     "output_type": "execute_result"
    }
   ],
   "source": [
    "y = input()\n",
    "y = int(y)\n",
    "print(y-543)"
   ]
  },
  {
   "cell_type": "markdown",
   "id": "072a4a27",
   "metadata": {},
   "source": [
    "3003번 킹, 퀸, 룩, 비숍, 나이트, 폰"
   ]
  },
  {
   "cell_type": "code",
   "execution_count": null,
   "id": "8107b58f",
   "metadata": {},
   "outputs": [],
   "source": [
    "a, b, c, d, e, f = map(int, input().split())\n",
    "print(1-a, 1-b, 2-c, 2-d, 2-e, 8-f)"
   ]
  },
  {
   "cell_type": "markdown",
   "id": "c16647c8",
   "metadata": {},
   "source": [
    "10430번 나머지"
   ]
  },
  {
   "cell_type": "code",
   "execution_count": 26,
   "id": "5b784c02",
   "metadata": {},
   "outputs": [
    {
     "name": "stdout",
     "output_type": "stream",
     "text": [
      "1 2 3\n",
      "0\n",
      "0\n",
      "2\n",
      "2\n"
     ]
    }
   ],
   "source": [
    "A, B, C = map(int, input().split())\n",
    "print((A+B)%C)\n",
    "print(((A%C) + (B%C))%C)\n",
    "print((A*B)%C)\n",
    "print(((A%C) * (B%C))%C)"
   ]
  },
  {
   "cell_type": "markdown",
   "id": "de75d472",
   "metadata": {},
   "source": [
    "2588번 곱셈"
   ]
  },
  {
   "cell_type": "code",
   "execution_count": 46,
   "id": "21cb3274",
   "metadata": {},
   "outputs": [
    {
     "name": "stdout",
     "output_type": "stream",
     "text": [
      "472 385\n",
      "2360\n",
      "3776\n",
      "1416\n",
      "181720\n"
     ]
    }
   ],
   "source": [
    "a, b = int(input()), int(input())\n",
    "for i in str(b)[::-1]:\n",
    "    print(a * int(i))\n",
    "print(a*b)"
   ]
  },
  {
   "cell_type": "code",
   "execution_count": 45,
   "id": "bb6dbbf6",
   "metadata": {},
   "outputs": [
    {
     "name": "stdout",
     "output_type": "stream",
     "text": [
      "472 385\n"
     ]
    },
    {
     "data": {
      "text/plain": [
       "['472', '385']"
      ]
     },
     "execution_count": 45,
     "metadata": {},
     "output_type": "execute_result"
    }
   ],
   "source": [
    "input().split()"
   ]
  },
  {
   "cell_type": "markdown",
   "id": "376d62f3",
   "metadata": {},
   "source": [
    "10171번 고양이"
   ]
  },
  {
   "cell_type": "code",
   "execution_count": 54,
   "id": "a49d829b",
   "metadata": {},
   "outputs": [
    {
     "name": "stdout",
     "output_type": "stream",
     "text": [
      "\\    /\\\n",
      " )  ( ')\n",
      "(  /  )\n",
      " \\(__)|\n"
     ]
    }
   ],
   "source": [
    "print(\"\\\\    /\\\\\")\n",
    "print(\" )  ( ')\")\n",
    "print(\"(  /  )\")\n",
    "print(\" \\\\(__)|\")"
   ]
  },
  {
   "cell_type": "markdown",
   "id": "1979689b",
   "metadata": {},
   "source": [
    "10172번 개"
   ]
  },
  {
   "cell_type": "code",
   "execution_count": 60,
   "id": "677adfc2",
   "metadata": {},
   "outputs": [
    {
     "name": "stdout",
     "output_type": "stream",
     "text": [
      "|\\_/|\n",
      "|q p|   /}\n",
      "( 0 )\"\"\"\\\n",
      "|\"^\"`    |\n",
      "||_/=\\\\__|\n"
     ]
    }
   ],
   "source": [
    "print(\"|\\\\_/|\")\n",
    "print(\"|q p|   /}\")\n",
    "print(\"( 0 )\\\"\\\"\\\"\\\\\")\n",
    "print(\"|\\\"^\\\"`    |\")\n",
    "print(\"||_/=\\\\\\\\__|\")"
   ]
  },
  {
   "cell_type": "markdown",
   "id": "4cd1de7d",
   "metadata": {},
   "source": [
    "25083번 새싹"
   ]
  },
  {
   "cell_type": "code",
   "execution_count": 74,
   "id": "a7d5340f",
   "metadata": {},
   "outputs": [
    {
     "name": "stdout",
     "output_type": "stream",
     "text": [
      "         ,r'\"7\n",
      "r`-_   ,'  ,/\n",
      " \\. \". L_r'\n",
      "   `~\\/\n",
      "      |\n",
      "      |\n"
     ]
    }
   ],
   "source": [
    "print(\"         ,r\\'\\\"7\")\n",
    "print(\"r`-_   ,\\'  ,/\")\n",
    "print(\" \\\\. \\\". L_r\\'\")\n",
    "print(\"   `~\\\\/\")\n",
    "print(\"      |\")\n",
    "print(\"      |\")"
   ]
  },
  {
   "cell_type": "code",
   "execution_count": null,
   "id": "820b0a60",
   "metadata": {},
   "outputs": [],
   "source": [
    "         ,r'\"7\n",
    "r`-_   ,'  ,/\n",
    " \\. \". L_r'\n",
    "   `~\\/\n",
    "      |\n",
    "      |"
   ]
  }
 ],
 "metadata": {
  "kernelspec": {
   "display_name": "Python 3 (ipykernel)",
   "language": "python",
   "name": "python3"
  },
  "language_info": {
   "codemirror_mode": {
    "name": "ipython",
    "version": 3
   },
   "file_extension": ".py",
   "mimetype": "text/x-python",
   "name": "python",
   "nbconvert_exporter": "python",
   "pygments_lexer": "ipython3",
   "version": "3.9.12"
  },
  "toc": {
   "base_numbering": 1,
   "nav_menu": {},
   "number_sections": true,
   "sideBar": true,
   "skip_h1_title": false,
   "title_cell": "Table of Contents",
   "title_sidebar": "Contents",
   "toc_cell": false,
   "toc_position": {},
   "toc_section_display": true,
   "toc_window_display": false
  }
 },
 "nbformat": 4,
 "nbformat_minor": 5
}
