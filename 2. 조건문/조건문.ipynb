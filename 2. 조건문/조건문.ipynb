{
 "cells": [
  {
   "cell_type": "markdown",
   "id": "28ab2628",
   "metadata": {},
   "source": [
    "1330번 두 수 비교하기"
   ]
  },
  {
   "cell_type": "code",
   "execution_count": null,
   "id": "5b513d36",
   "metadata": {},
   "outputs": [],
   "source": [
    "a, b = map(int, input().split())\n",
    "if a > b:\n",
    "    print(\">\")\n",
    "elif a < b:\n",
    "    print(\"<\")\n",
    "else: print(\"==\")"
   ]
  },
  {
   "cell_type": "markdown",
   "id": "fc049e95",
   "metadata": {},
   "source": [
    "948번 시험성적"
   ]
  },
  {
   "cell_type": "code",
   "execution_count": 2,
   "id": "55cdf6ed",
   "metadata": {},
   "outputs": [
    {
     "name": "stdout",
     "output_type": "stream",
     "text": [
      "90\n",
      "A\n"
     ]
    }
   ],
   "source": [
    "a = int(input())\n",
    "if a >= 90:\n",
    "    print(\"A\")\n",
    "elif a >= 80:\n",
    "    print(\"B\")\n",
    "elif a >= 70:\n",
    "    print(\"C\")\n",
    "elif a >= 60:\n",
    "    print(\"D\")\n",
    "else: print(\"F\")"
   ]
  },
  {
   "cell_type": "markdown",
   "id": "1acc36dd",
   "metadata": {},
   "source": [
    "2753번 윤년"
   ]
  },
  {
   "cell_type": "code",
   "execution_count": 8,
   "id": "218860c2",
   "metadata": {},
   "outputs": [
    {
     "name": "stdout",
     "output_type": "stream",
     "text": [
      "400\n",
      "1\n"
     ]
    }
   ],
   "source": [
    "a = int(input())\n",
    "if (a % 4 == 0):\n",
    "    if (a % 100 != 0) or (a % 400 == 0):\n",
    "        print(\"1\")\n",
    "    else: print(\"0\")\n",
    "else: print(\"0\")"
   ]
  },
  {
   "cell_type": "markdown",
   "id": "b7e25f12",
   "metadata": {},
   "source": [
    "14681번 사분면 고르기"
   ]
  },
  {
   "cell_type": "code",
   "execution_count": 9,
   "id": "aa786259",
   "metadata": {},
   "outputs": [
    {
     "name": "stdout",
     "output_type": "stream",
     "text": [
      "3\n",
      "1\n",
      "1\n"
     ]
    }
   ],
   "source": [
    "a, b = int(input()), int(input())\n",
    "if a > 0 and b > 0:\n",
    "    print(1)\n",
    "elif a < 0 and b > 0:\n",
    "    print(2)\n",
    "elif a < 0 and b <0:\n",
    "    print(3)\n",
    "else: print(4)"
   ]
  },
  {
   "cell_type": "markdown",
   "id": "33365eb0",
   "metadata": {},
   "source": [
    "2884번 알람시계"
   ]
  },
  {
   "cell_type": "code",
   "execution_count": 22,
   "id": "fe637e1a",
   "metadata": {},
   "outputs": [
    {
     "name": "stdout",
     "output_type": "stream",
     "text": [
      "10 45\n",
      "10\n"
     ]
    }
   ],
   "source": [
    "a, b = map(int, input().split())\n",
    "\n",
    "if b < 45:\n",
    "    if a == 0:\n",
    "        a = 23\n",
    "        b = 60 + b\n",
    "\n",
    "    else:\n",
    "        a = a - 1\n",
    "        b = 60 + b\n",
    "\n",
    "print(a, b - 45)"
   ]
  },
  {
   "cell_type": "markdown",
   "id": "cb21c42f",
   "metadata": {},
   "source": [
    "2525번 오븐시계"
   ]
  },
  {
   "cell_type": "code",
   "execution_count": 9,
   "id": "1f725f8c",
   "metadata": {},
   "outputs": [
    {
     "name": "stdout",
     "output_type": "stream",
     "text": [
      "23 48\n",
      "25\n",
      "0 13\n"
     ]
    }
   ],
   "source": [
    "a, b = map(int, input().split())\n",
    "c = int(input())\n",
    "\n",
    "a = a + c // 60\n",
    "b = b + c % 60\n",
    "\n",
    "if b >= 60:\n",
    "    a += 1\n",
    "    b = b - 60\n",
    "    \n",
    "if a >= 24:\n",
    "    a -= 24\n",
    "    \n",
    "print(a, b)"
   ]
  },
  {
   "cell_type": "markdown",
   "id": "9e3d97c2",
   "metadata": {},
   "source": [
    "2480 주사위 세개"
   ]
  },
  {
   "cell_type": "code",
   "execution_count": 20,
   "id": "aaa9bef9",
   "metadata": {},
   "outputs": [
    {
     "name": "stdout",
     "output_type": "stream",
     "text": [
      "2 2 2\n",
      "12000\n"
     ]
    }
   ],
   "source": [
    "a,b,c = map(int, input().split())\n",
    "if a == b == c:\n",
    "    print(10000 + a * 1000)\n",
    "elif (a == b != c) or (a == c != b):\n",
    "    print(1000 + a*100)\n",
    "elif b == c != a:\n",
    "    print(1000 + b *100)\n",
    "elif (a != b) and (a != c) and (b != c):\n",
    "    print(max(a,b,c) * 100)"
   ]
  }
 ],
 "metadata": {
  "kernelspec": {
   "display_name": "Python 3 (ipykernel)",
   "language": "python",
   "name": "python3"
  },
  "language_info": {
   "codemirror_mode": {
    "name": "ipython",
    "version": 3
   },
   "file_extension": ".py",
   "mimetype": "text/x-python",
   "name": "python",
   "nbconvert_exporter": "python",
   "pygments_lexer": "ipython3",
   "version": "3.9.12"
  },
  "toc": {
   "base_numbering": 1,
   "nav_menu": {},
   "number_sections": true,
   "sideBar": true,
   "skip_h1_title": false,
   "title_cell": "Table of Contents",
   "title_sidebar": "Contents",
   "toc_cell": false,
   "toc_position": {},
   "toc_section_display": true,
   "toc_window_display": false
  }
 },
 "nbformat": 4,
 "nbformat_minor": 5
}
