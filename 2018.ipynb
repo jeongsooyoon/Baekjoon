{
 "cells": [
  {
   "cell_type": "code",
   "execution_count": 1,
   "id": "84713af2",
   "metadata": {},
   "outputs": [
    {
     "name": "stdout",
     "output_type": "stream",
     "text": [
      "15\n",
      "4\n"
     ]
    }
   ],
   "source": [
    "n = int(input())\n",
    "count = 0\n",
    "start_index = 1\n",
    "end_index = 1\n",
    "sum = 0\n",
    "\n",
    "while end_index != n:\n",
    "    if sum == n: # 정답일 경우\n",
    "        count += 1\n",
    "        end_index += 1\n",
    "        sum = sum + end_index\n",
    "    elif sum > n: # start_index 제거 및 이동\n",
    "        sum = sum - start_index\n",
    "        start_index += 1\n",
    "    else: # sum < n, # end_index 확장\n",
    "        end_index += 1\n",
    "        sum = sum + end_index\n",
    "\n",
    "print(count)"
   ]
  }
 ],
 "metadata": {
  "kernelspec": {
   "display_name": "Python 3 (ipykernel)",
   "language": "python",
   "name": "python3"
  },
  "language_info": {
   "codemirror_mode": {
    "name": "ipython",
    "version": 3
   },
   "file_extension": ".py",
   "mimetype": "text/x-python",
   "name": "python",
   "nbconvert_exporter": "python",
   "pygments_lexer": "ipython3",
   "version": "3.9.12"
  },
  "toc": {
   "base_numbering": 1,
   "nav_menu": {},
   "number_sections": true,
   "sideBar": true,
   "skip_h1_title": false,
   "title_cell": "Table of Contents",
   "title_sidebar": "Contents",
   "toc_cell": false,
   "toc_position": {},
   "toc_section_display": true,
   "toc_window_display": false
  }
 },
 "nbformat": 4,
 "nbformat_minor": 5
}
